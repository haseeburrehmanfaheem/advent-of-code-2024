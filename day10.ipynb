{
 "cells": [
  {
   "cell_type": "code",
   "execution_count": null,
   "metadata": {
    "vscode": {
     "languageId": "plaintext"
    }
   },
   "outputs": [],
   "source": [
    "orig = []\n",
    "# open file as reading\n",
    "with open('input1.txt', 'r') as f:\n",
    "    # read\n",
    "   \n",
    "    for line in f:\n",
    "        orig.append([int(i) for i in line.strip() if i.isdigit()])\n",
    "    \n",
    "orig"
   ]
  },
  {
   "cell_type": "code",
   "execution_count": null,
   "metadata": {
    "vscode": {
     "languageId": "plaintext"
    }
   },
   "outputs": [],
   "source": [
    "answer = 0\n",
    "for i in range(len(orig)):\n",
    "    for j in range(len(orig[0])):\n",
    "        if orig[i][j] == 0:\n",
    "            # print(i,j)\n",
    "            # print(orig[i][j])\n",
    "            answer += bfs(i,j)\n",
    "\n",
    "print(answer)\n"
   ]
  },
  {
   "cell_type": "code",
   "execution_count": null,
   "metadata": {
    "vscode": {
     "languageId": "plaintext"
    }
   },
   "outputs": [],
   "source": [
    "import collections\n",
    "directions = [(1,0),(-1,0),(0,1),(0,-1)]\n",
    "\n",
    "\n",
    "def bfs(i,j):\n",
    "    \n",
    "    queue = collections.deque()\n",
    "    queue.append((i,j,0))\n",
    "    reachable = 0\n",
    "    while queue:\n",
    "        i,j,curr_elev = queue.popleft()\n",
    "        for x,y in directions:\n",
    "            new_i,new_j = i+x,j+y\n",
    "            \n",
    "            valid_i = 0 <= new_i < len(orig)\n",
    "            valid_j = 0 <= new_j < len(orig[0])\n",
    "            if valid_i and valid_j:\n",
    "                    next_elev = orig[new_i][new_j]\n",
    "                    \n",
    "                    if curr_elev + 1 == next_elev:\n",
    "                        if next_elev == 9:\n",
    "                            reachable += 1\n",
    "                        else:\n",
    "                            queue.append((new_i,new_j,next_elev))\n",
    "    \n",
    "    return reachable\n",
    "\n"
   ]
  }
 ],
 "metadata": {
  "language_info": {
   "name": "python"
  }
 },
 "nbformat": 4,
 "nbformat_minor": 2
}
