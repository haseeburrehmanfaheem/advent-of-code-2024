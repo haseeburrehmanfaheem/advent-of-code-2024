{
 "cells": [
  {
   "cell_type": "code",
   "execution_count": null,
   "metadata": {
    "vscode": {
     "languageId": "plaintext"
    }
   },
   "outputs": [],
   "source": [
    "valid = [True] * len(all_queries)\n",
    "\n",
    "for each in all_rules:\n",
    "    prev,next = each.split(\"|\")\n",
    "    prev = int(prev)\n",
    "    next = int(next)\n",
    "    \n",
    "    prev_index = -1\n",
    "    next_index = float(\"inf\")\n",
    "    \n",
    "    \n",
    "    for i,query in enumerate(all_queries):\n",
    "        query = query.split(\",\")\n",
    "        query = [int(x) for x in query]\n",
    "        if prev in query and next in query:\n",
    "            prev_index = query.index(prev)\n",
    "            next_index = query.index(next)\n",
    "            if prev_index > next_index:\n",
    "                print(each, query)\n",
    "                valid[i] = False\n",
    "        \n",
    "            \n",
    "        \n",
    "        \n",
    "        \n",
    "            \n",
    "        # break\n",
    "    # break\n",
    "    # for each in \n",
    "\n",
    "total_sum = 0\n",
    "\n",
    "for i,each in enumerate(valid):\n",
    "    if each:\n",
    "        query = all_queries[i].split(\",\")\n",
    "        query = [int(x) for x in query]\n",
    "        total_sum += query[len(query)//2]\n",
    "\n",
    "print(total_sum)\n",
    "\n",
    "\n",
    "valid_save = copy.deepcopy(valid)\n",
    "\n",
    "\n"
   ]
  },
  {
   "cell_type": "code",
   "execution_count": null,
   "metadata": {
    "vscode": {
     "languageId": "plaintext"
    }
   },
   "outputs": [],
   "source": [
    "for each in all_rules:\n",
    "    prev,next = each.split(\"|\")\n",
    "    prev = int(prev)\n",
    "    next = int(next)\n",
    "    \n",
    "    prev_index = -1\n",
    "    next_index = float(\"inf\")\n",
    "    \n",
    "    \n",
    "    for i,query in enumerate(all_queries):\n",
    "        query = query.split(\",\")\n",
    "        query = [int(x) for x in query]\n",
    "        if prev in query and next in query:\n",
    "            prev_index = query.index(prev)\n",
    "            next_index = query.index(next)\n",
    "            if prev_index > next_index:\n",
    "                tmp = query\n",
    "        "
   ]
  },
  {
   "cell_type": "code",
   "execution_count": null,
   "metadata": {
    "vscode": {
     "languageId": "plaintext"
    }
   },
   "outputs": [],
   "source": [
    "all_queries = queries.split(\"\\n\")\n",
    "\n",
    "all_queries_int = []\n",
    "for each in all_queries:\n",
    "    query = each.split(\",\")\n",
    "    query = [int(x) for x in query]\n",
    "    all_queries_int.append(query)\n",
    "\n",
    "all_queries_int\n",
    "\n",
    "\n",
    "\n",
    "\n",
    "\n"
   ]
  },
  {
   "cell_type": "code",
   "execution_count": null,
   "metadata": {
    "vscode": {
     "languageId": "plaintext"
    }
   },
   "outputs": [],
   "source": [
    "for each in all_rules:\n",
    "    prev,next = each.split(\"|\")\n",
    "    prev = int(prev)\n",
    "    next = int(next)\n",
    "    \n",
    "    prev_index = -1\n",
    "    next_index = float(\"inf\")\n",
    "    \n",
    "    \n",
    "    for i,query in enumerate(all_queries_int):\n",
    "        if prev in query and next in query:\n",
    "            prev_index = query.index(prev)\n",
    "            next_index = query.index(next)\n",
    "            if prev_index > next_index:\n",
    "                # swap prev and next index\n",
    "                tmp = query[prev_index]\n",
    "                query[prev_index] = query[next_index]\n",
    "                query[next_index] = tmp\n",
    "                all_queries_int[i] = query\n",
    "                print(\"yes\")"
   ]
  },
  {
   "cell_type": "code",
   "execution_count": null,
   "metadata": {
    "vscode": {
     "languageId": "plaintext"
    }
   },
   "outputs": [],
   "source": [
    "total_sum = 0\n",
    "for i,each in enumerate(valid):\n",
    "    if not each:\n",
    "        query = all_queries_int[i]\n",
    "        # query = [int(x) for x in query]\n",
    "        total_sum += query[len(query)//2]\n",
    "\n",
    "print(total_sum)\n",
    "\n",
    "\n",
    "# valid_save = copy.deepcopy(valid)"
   ]
  }
 ],
 "metadata": {
  "language_info": {
   "name": "python"
  }
 },
 "nbformat": 4,
 "nbformat_minor": 2
}
