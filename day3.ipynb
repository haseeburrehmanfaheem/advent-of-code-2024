{
 "cells": [
  {
   "cell_type": "code",
   "execution_count": null,
   "metadata": {
    "vscode": {
     "languageId": "plaintext"
    }
   },
   "outputs": [],
   "source": [
    "first_arr, second_arr = [], []\n",
    "total = 0\n",
    "\n",
    "\n",
    "do = True\n",
    "with open('input.txt', 'r') as file:\n",
    "    for line in file:\n",
    "        for index,char in enumerate(line):\n",
    "            # print(index,char)\n",
    "            \n",
    "            if line[index] == \"d\" and  line[index+1] == \"o\" and line[index+2] == \"(\" and line[index+3] == \")\":\n",
    "                do = True\n",
    "            if line[index] == \"d\" and  line[index+1] == \"o\" and line[index+2] == \"n\" and line[index+3] == \"'\" and line[index+4] == \"t\":\n",
    "                do = False\n",
    "            \n",
    "            if line[index] == \"m\" and line[index+1] == \"u\" and line[index+2] == \"l\" and line[index+3] == \"(\":\n",
    "                tmp = index+3\n",
    "                \n",
    "                while line[tmp] != \")\":\n",
    "                    tmp+=1\n",
    "                # print(line[index+4:tmp])\n",
    "                \n",
    "                splitted_data = line[index+4:tmp].split(\",\")\n",
    "                \n",
    "                if len(splitted_data) == 2 and splitted_data[0] == splitted_data[0].strip() and splitted_data[1] == splitted_data[1].strip():\n",
    "                    try:\n",
    "                        first = int(splitted_data[0])\n",
    "                        second = int(splitted_data[1])\n",
    "                        if do:\n",
    "                            total += first * second\n",
    "                    except:\n",
    "                        continue\n",
    "                      \n",
    "                        \n",
    "                \n",
    "print(total)   \n",
    "                \n",
    "                \n",
    "        # each = line.strip().split(\" \")\n",
    "        # int_list = [int(x) for x in each]\n",
    "        # first_arr.append(int_list)\n",
    "\n",
    "\n",
    "\n",
    "        "
   ]
  }
 ],
 "metadata": {
  "language_info": {
   "name": "python"
  }
 },
 "nbformat": 4,
 "nbformat_minor": 2
}
