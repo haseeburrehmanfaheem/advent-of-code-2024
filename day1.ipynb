{
 "cells": [
  {
   "cell_type": "code",
   "execution_count": 11,
   "metadata": {},
   "outputs": [],
   "source": [
    "with open(\"day1.txt\") as f:\n",
    "    input_lines = f.readlines()\n",
    "\n",
    "\n",
    "arr1, arr2 = [], []\n",
    "\n",
    "for line in input_lines:\n",
    "    \n",
    "\n",
    "    splitted = line.strip().split()\n",
    "    \n",
    "    arr1.append(int(splitted[0]))\n",
    "    arr2.append(int(splitted[1]))\n",
    "    \n"
   ]
  },
  {
   "cell_type": "code",
   "execution_count": 10,
   "metadata": {},
   "outputs": [
    {
     "name": "stdout",
     "output_type": "stream",
     "text": [
      "2264607\n"
     ]
    }
   ],
   "source": [
    "\n",
    "lenght = len(arr1)\n",
    "diff = 0\n",
    "for i in range(lenght):\n",
    "    min1 = min(arr1)\n",
    "    min2 = min(arr2)\n",
    "    \n",
    "    diff += abs(min1 - min2)\n",
    "    \n",
    "    arr1.remove(min1)\n",
    "    arr2.remove(min2)\n",
    "\n",
    "print(diff)"
   ]
  },
  {
   "cell_type": "code",
   "execution_count": 12,
   "metadata": {},
   "outputs": [
    {
     "name": "stdout",
     "output_type": "stream",
     "text": [
      "19457120\n"
     ]
    }
   ],
   "source": [
    "\n",
    "dist = 0\n",
    "for i in range(lenght):\n",
    "    to_find = arr1[i]\n",
    "    \n",
    "    count = arr2.count(to_find)\n",
    "    dist+= count*to_find\n",
    "\n",
    "print(dist)"
   ]
  }
 ],
 "metadata": {
  "kernelspec": {
   "display_name": ".env",
   "language": "python",
   "name": "python3"
  },
  "language_info": {
   "codemirror_mode": {
    "name": "ipython",
    "version": 3
   },
   "file_extension": ".py",
   "mimetype": "text/x-python",
   "name": "python",
   "nbconvert_exporter": "python",
   "pygments_lexer": "ipython3",
   "version": "3.10.16"
  }
 },
 "nbformat": 4,
 "nbformat_minor": 2
}
