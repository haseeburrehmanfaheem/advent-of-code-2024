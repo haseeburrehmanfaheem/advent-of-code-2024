{
 "cells": [
  {
   "cell_type": "code",
   "execution_count": null,
   "metadata": {
    "vscode": {
     "languageId": "plaintext"
    }
   },
   "outputs": [],
   "source": [
    "\n",
    "\n",
    "orig = \"\"\n",
    "# open file as reading\n",
    "with open('input2.txt', 'r') as f:\n",
    "    # read\n",
    "   \n",
    "    \n",
    "    orig = f.read()\n",
    "    \n",
    "    \n",
    "orig = list(orig)\n",
    "# orig\n",
    "    \n",
    "    \n",
    "res_map = []\n",
    "disk_map = []\n",
    "curr = \"0\"\n",
    "empty = False\n",
    "for each in orig:\n",
    "    if not empty:\n",
    "        tmp = int(each)\n",
    "        while tmp > 0:\n",
    "            disk_map.append(curr)\n",
    "            # curr = str(int(curr) + 1)\n",
    "            tmp -= 1\n",
    "        # disk_map.append(curr * int(each))\n",
    "        # if int(each):\n",
    "        res_map.append((curr, int(each)))\n",
    "        \n",
    "        curr = str(int(curr) + 1)\n",
    "        \n",
    "    if empty:\n",
    "        tmp = int(each)\n",
    "        while tmp > 0:\n",
    "            disk_map.append(\".\")\n",
    "            tmp -= 1\n",
    "        # disk_map.append(\".\" * int(each))\n",
    "        # if int(each):\n",
    "        res_map.append((\".\", int(each)))\n",
    "    empty = not empty\n",
    "    \n",
    "# print(disk_map)\n",
    "res_map\n",
    "# disk_map = list(disk_map)\n",
    "    \n"
   ]
  },
  {
   "cell_type": "code",
   "execution_count": null,
   "metadata": {
    "vscode": {
     "languageId": "plaintext"
    }
   },
   "outputs": [],
   "source": [
    "# res_map\n",
    "\n",
    "# res_map = []\n",
    "\n",
    "res_map_len = len(res_map)\n",
    "\n",
    "for i in range(res_map_len-1,-1,-1):\n",
    "    \n",
    "    if res_map[i][0] == \".\":\n",
    "        continue\n",
    "    number_freq = res_map[i][1]\n",
    "    number = res_map[i][0]\n",
    "    \n",
    "    \n",
    "    for j in range(len(res_map)):\n",
    "        \n",
    "        if j >= i:\n",
    "            break\n",
    "        \n",
    "        if res_map[j][0] == \".\":\n",
    "            if number_freq <= res_map[j][1]:\n",
    "                if number_freq == res_map[j][1]:\n",
    "                    res_map[j] = (number, number_freq)\n",
    "                    res_map[i] = (\".\", number_freq)\n",
    "                \n",
    "                else:\n",
    "                    dot_freq = res_map[j][1]\n",
    "                    res_map[j] = (number, number_freq)\n",
    "                    res_map.insert(j+1, (\".\", dot_freq - number_freq))\n",
    "                    res_map[i+1] = (\".\", number_freq)\n",
    "                    # print(res_map)\n",
    "                \n",
    "                    i+=1\n",
    "                    \n",
    "                    # print(res_map, i, number)\n",
    "                break\n",
    "                \n",
    "                \n",
    "                \n",
    "res_map    \n",
    "    \n",
    "    "
   ]
  },
  {
   "cell_type": "code",
   "execution_count": null,
   "metadata": {
    "vscode": {
     "languageId": "plaintext"
    }
   },
   "outputs": [],
   "source": [
    "checksum = 0\n",
    "curr = 0\n",
    "\n",
    "result_map = []\n",
    "for each in res_map:\n",
    "    tmp = each[1]\n",
    "    \n",
    "    while tmp > 0:\n",
    "        result_map.append((each[0]))\n",
    "        tmp -= 1\n",
    "\n",
    "\n",
    "print(result_map)\n",
    "\n"
   ]
  },
  {
   "cell_type": "code",
   "execution_count": null,
   "metadata": {
    "vscode": {
     "languageId": "plaintext"
    }
   },
   "outputs": [],
   "source": [
    "\n",
    "checksum = 0\n",
    "for each in result_map:\n",
    "    if each != \".\":\n",
    "        checksum += (int(each) * curr)\n",
    "    \n",
    "    curr += 1\n",
    "\n",
    "checksum\n"
   ]
  }
 ],
 "metadata": {
  "language_info": {
   "name": "python"
  }
 },
 "nbformat": 4,
 "nbformat_minor": 2
}
