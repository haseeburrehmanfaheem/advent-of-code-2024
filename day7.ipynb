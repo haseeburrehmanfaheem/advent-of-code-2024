{
 "cells": [
  {
   "cell_type": "code",
   "execution_count": null,
   "metadata": {
    "vscode": {
     "languageId": "plaintext"
    }
   },
   "outputs": [],
   "source": [
    "import copy\n",
    "with open('input.txt', 'r') as file:\n",
    "    file_content = file.read()\n",
    "    # print(file_content)\n",
    "\n",
    "res = []\n",
    "def backtrack(tmp_val, index, cur_val,target):\n",
    "    if index == len(tmp_val):\n",
    "        return cur_val == target\n",
    "    result = backtrack(tmp_val,index+1, cur_val + tmp_val[index],target) or backtrack(tmp_val,index+1, cur_val * tmp_val[index],target) or backtrack(tmp_val,index+1, int(str(cur_val) + str(tmp_val[index])),target)\n",
    "    return result\n",
    "\n",
    "for each in file_content.split(\"\\n\"):\n",
    "    key = each.split(\":\")\n",
    "    target = int(key[0])\n",
    "    values = [int(i) for i in key[1].split(\" \") if i != \"\"]\n",
    "    if backtrack(values, 1, values[0],target):\n",
    "        res.append(target)\n",
    "\n",
    "print(sum(res))\n",
    "        "
   ]
  }
 ],
 "metadata": {
  "language_info": {
   "name": "python"
  }
 },
 "nbformat": 4,
 "nbformat_minor": 2
}
