{
 "cells": [
  {
   "cell_type": "code",
   "execution_count": null,
   "metadata": {
    "vscode": {
     "languageId": "plaintext"
    }
   },
   "outputs": [],
   "source": [
    "total=  0\n",
    "with open('input.txt', 'r') as file:\n",
    "    # read file in a list of list\n",
    "    file = [list(line.strip()) for line in file]\n",
    "    \n",
    "    \n",
    "    \n",
    "    for row,line in enumerate(file):\n",
    "        for column,char in enumerate(line):\n",
    "            # print(file[row][column])\n",
    "            if column + 3 < len(line):\n",
    "                # print(line[row][column+2])\n",
    "                if file[row][column] == \"X\" and  file[row][column+1] == \"M\" and file[row][column+2] == \"A\" and file[row][column+3] == \"S\":\n",
    "                    total += 1\n",
    "            \n",
    "            if row + 3 < len(file):\n",
    "                if file[row][column] == \"X\" and  file[row+1][column] == \"M\" and file[row+2][column] == \"A\" and file[row+3][column] == \"S\":\n",
    "                    total += 1\n",
    "            if row + 3 < len(file) and column + 3 < len(line):\n",
    "                if file[row][column] == \"X\" and  file[row+1][column+1] == \"M\" and file[row+2][column+2] == \"A\" and file[row+3][column+3] == \"S\":\n",
    "                    total += 1\n",
    "            \n",
    "            if row + 3 < len(file) and column - 3 >= 0:\n",
    "                if file[row][column] == \"X\" and  file[row+1][column-1] == \"M\" and file[row+2][column-2] == \"A\" and file[row+3][column-3] == \"S\":\n",
    "                    total += 1\n",
    "    \n",
    "    \n",
    "with open('input.txt', 'r') as file:\n",
    "    file = [list(line.strip()) for line in file]\n",
    "    for row,line in enumerate(file):\n",
    "        for column,char in enumerate(line):\n",
    "            \n",
    "            if column + 3 < len(line):\n",
    "                if file[row][column] == \"S\" and  file[row][column+1] == \"A\" and file[row][column+2] == \"M\" and file[row][column+3] == \"X\":\n",
    "                    total += 1\n",
    "            \n",
    "            if row + 3 < len(file):\n",
    "                if file[row][column] == \"S\" and  file[row+1][column] == \"A\" and file[row+2][column] == \"M\" and file[row+3][column] == \"X\":\n",
    "                    total += 1\n",
    "            if row + 3 < len(file) and column + 3 < len(line):\n",
    "                if file[row][column] == \"S\" and  file[row+1][column+1] == \"A\" and file[row+2][column+2] == \"M\" and file[row+3][column+3] == \"X\":\n",
    "                    total += 1\n",
    "            \n",
    "            if row + 3 < len(file) and column - 3 >= 0:\n",
    "                if file[row][column] == \"S\" and  file[row+1][column-1] == \"A\" and file[row+2][column-2] == \"M\" and file[row+3][column-3] == \"X\":\n",
    "                    total += 1\n",
    "    \n",
    "    \n",
    "    \n",
    "    \n",
    "            \n",
    "print(total)\n",
    "                \n",
    "        "
   ]
  },
  {
   "cell_type": "code",
   "execution_count": null,
   "metadata": {
    "vscode": {
     "languageId": "plaintext"
    }
   },
   "outputs": [],
   "source": [
    "total=  0\n",
    "with open('input.txt', 'r') as file:\n",
    "    # read file in a list of list\n",
    "    file = [list(line.strip()) for line in file]\n",
    "    \n",
    "    \n",
    "    \n",
    "    for row,line in enumerate(file):\n",
    "        for column,char in enumerate(line):\n",
    "            # print(file[row][column])\n",
    "            # if column + 3 < len(line):\n",
    "                # print(line[row][column+2])\n",
    "            if file[row][column] == \"A\":\n",
    "                if row + 1 < len(file) and row - 1 >= 0 and column + 1 < len(line) and column - 1 >= 0:\n",
    "                    if ((file[row+1][column+1] == \"M\" and file[row-1][column-1] == \"S\") or (file[row+1][column+1] == \"S\" and file[row-1][column-1] == \"M\"))  and ((file[row-1][column+1] == \"M\" and file[row+1][column-1] == \"S\") or (file[row-1][column+1] == \"S\" and file[row+1][column-1] == \"M\")):\n",
    "                        total += 1\n",
    "        \n",
    "       \n",
    "            \n",
    "print(total)\n",
    "                \n",
    "        "
   ]
  }
 ],
 "metadata": {
  "language_info": {
   "name": "python"
  }
 },
 "nbformat": 4,
 "nbformat_minor": 2
}
