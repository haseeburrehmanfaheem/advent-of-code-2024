{
 "cells": [
  {
   "cell_type": "code",
   "execution_count": null,
   "metadata": {
    "vscode": {
     "languageId": "plaintext"
    }
   },
   "outputs": [],
   "source": [
    "from collections import defaultdict\n",
    "orig_list = [17639, 47, 3858, 0, 470624, 9467423, 5, 188]\n",
    "\n",
    "store = defaultdict(int)\n",
    "\n",
    "for each in orig_list:\n",
    "    store[each] += 1\n",
    "\n",
    "for i in range(75):\n",
    "    tmp_store = store.copy()\n",
    "    store = defaultdict(int)\n",
    "    for each,count in tmp_store.items():\n",
    "        if each == 0:\n",
    "            store[1] += count\n",
    "        else:\n",
    "            str_num = str(each)\n",
    "            num_len = len(str_num)\n",
    "            if num_len % 2 == 1:\n",
    "                store[each * 2024]+=count\n",
    "                # new_list.append(each * 2024)\n",
    "            else:\n",
    "                mid = num_len // 2\n",
    "                \n",
    "                store[int(str_num[:mid])] += count\n",
    "                store[int(str_num[mid:])] += count\n",
    "                # new_list.append(int(str_num[:mid]))\n",
    "                # new_list.append(int(str_num[mid:]))\n",
    "\n",
    "\n",
    "# sum all the values in the dictionary\n",
    "sum(store.values())\n"
   ]
  }
 ],
 "metadata": {
  "language_info": {
   "name": "python"
  }
 },
 "nbformat": 4,
 "nbformat_minor": 2
}
